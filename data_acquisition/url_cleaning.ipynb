{
 "cells": [
  {
   "cell_type": "code",
   "execution_count": 10,
   "metadata": {},
   "outputs": [],
   "source": [
    "import pandas as pd"
   ]
  },
  {
   "cell_type": "code",
   "execution_count": 11,
   "metadata": {},
   "outputs": [
    {
     "name": "stdout",
     "output_type": "stream",
     "text": [
      "<class 'pandas.core.frame.DataFrame'>\n",
      "RangeIndex: 1087 entries, 0 to 1086\n",
      "Data columns (total 2 columns):\n",
      " #   Column  Non-Null Count  Dtype \n",
      "---  ------  --------------  ----- \n",
      " 0   0       1087 non-null   object\n",
      " 1   1       1087 non-null   object\n",
      "dtypes: object(2)\n",
      "memory usage: 17.1+ KB\n"
     ]
    }
   ],
   "source": [
    "urls = pd.read_csv('chosen_urls copy.csv', header=None, encoding='Windows-1252')\n",
    "\n",
    "urls.info()"
   ]
  },
  {
   "cell_type": "code",
   "execution_count": 12,
   "metadata": {},
   "outputs": [],
   "source": [
    "urls.sort_values(by=1, inplace=True)\n",
    "\n",
    "# remove newlines\n",
    "urls[0] = urls[0].str.replace('\\n', '')\n",
    "\n",
    "\n",
    "with open('sorted_urls.csv', 'w', newline='') as f:\n",
    "    urls.to_csv(f, header=False, index=False, encoding='utf-8')"
   ]
  },
  {
   "cell_type": "code",
   "execution_count": 14,
   "metadata": {},
   "outputs": [
    {
     "data": {
      "text/plain": [
       "0                                                     URL\n",
       "283     https://www.gov.uk/aaib-reports/1-1993-piper-p...\n",
       "1008    https://www.gov.uk/aaib-reports/10-1975-piper-...\n",
       "373     https://www.gov.uk/aaib-reports/10-1981-piper-...\n",
       "239     https://www.gov.uk/aaib-reports/11-1981-piper-...\n",
       "                              ...                        \n",
       "963     https://www.gov.uk/when-is-your-next-tax-credi...\n",
       "970                 https://www.gov.uk/working-tax-credit\n",
       "980     https://www.gov.uk/working-tax-credit/further-...\n",
       "973     https://www.gov.uk/working-tax-credit/how-to-c...\n",
       "977     https://www.gov.uk/working-tax-credit/what-you...\n",
       "Name: 1, Length: 1087, dtype: object"
      ]
     },
     "execution_count": 14,
     "metadata": {},
     "output_type": "execute_result"
    }
   ],
   "source": [
    "urls[1]"
   ]
  }
 ],
 "metadata": {
  "kernelspec": {
   "display_name": "base",
   "language": "python",
   "name": "python3"
  },
  "language_info": {
   "codemirror_mode": {
    "name": "ipython",
    "version": 3
   },
   "file_extension": ".py",
   "mimetype": "text/x-python",
   "name": "python",
   "nbconvert_exporter": "python",
   "pygments_lexer": "ipython3",
   "version": "3.11.7"
  }
 },
 "nbformat": 4,
 "nbformat_minor": 2
}
